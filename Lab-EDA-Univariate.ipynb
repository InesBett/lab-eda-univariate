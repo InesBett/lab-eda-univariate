{
 "cells": [
  {
   "cell_type": "code",
   "execution_count": 19,
   "id": "a18a870b-82c2-4402-85d1-657c1a7fb70e",
   "metadata": {},
   "outputs": [],
   "source": [
    "import pandas as pd\n",
    "import seaborn as sns\n",
    "import matplotlib.pyplot as plt\n",
    "import numpy as np"
   ]
  },
  {
   "cell_type": "code",
   "execution_count": 3,
   "id": "456742ac-9d04-45f8-8644-9cc7b34fddfc",
   "metadata": {},
   "outputs": [
    {
     "data": {
      "text/html": [
       "<div>\n",
       "<style scoped>\n",
       "    .dataframe tbody tr th:only-of-type {\n",
       "        vertical-align: middle;\n",
       "    }\n",
       "\n",
       "    .dataframe tbody tr th {\n",
       "        vertical-align: top;\n",
       "    }\n",
       "\n",
       "    .dataframe thead th {\n",
       "        text-align: right;\n",
       "    }\n",
       "</style>\n",
       "<table border=\"1\" class=\"dataframe\">\n",
       "  <thead>\n",
       "    <tr style=\"text-align: right;\">\n",
       "      <th></th>\n",
       "      <th>uid</th>\n",
       "      <th>asin</th>\n",
       "      <th>title</th>\n",
       "      <th>stars</th>\n",
       "      <th>reviews</th>\n",
       "      <th>price</th>\n",
       "      <th>isBestSeller</th>\n",
       "      <th>boughtInLastMonth</th>\n",
       "      <th>category</th>\n",
       "    </tr>\n",
       "  </thead>\n",
       "  <tbody>\n",
       "    <tr>\n",
       "      <th>0</th>\n",
       "      <td>1</td>\n",
       "      <td>B09B96TG33</td>\n",
       "      <td>Echo Dot (5th generation, 2022 release) | Big ...</td>\n",
       "      <td>4.7</td>\n",
       "      <td>15308</td>\n",
       "      <td>21.99</td>\n",
       "      <td>False</td>\n",
       "      <td>0</td>\n",
       "      <td>Hi-Fi Speakers</td>\n",
       "    </tr>\n",
       "    <tr>\n",
       "      <th>1</th>\n",
       "      <td>2</td>\n",
       "      <td>B01HTH3C8S</td>\n",
       "      <td>Anker Soundcore mini, Super-Portable Bluetooth...</td>\n",
       "      <td>4.7</td>\n",
       "      <td>98099</td>\n",
       "      <td>23.99</td>\n",
       "      <td>True</td>\n",
       "      <td>0</td>\n",
       "      <td>Hi-Fi Speakers</td>\n",
       "    </tr>\n",
       "    <tr>\n",
       "      <th>2</th>\n",
       "      <td>3</td>\n",
       "      <td>B09B8YWXDF</td>\n",
       "      <td>Echo Dot (5th generation, 2022 release) | Big ...</td>\n",
       "      <td>4.7</td>\n",
       "      <td>15308</td>\n",
       "      <td>21.99</td>\n",
       "      <td>False</td>\n",
       "      <td>0</td>\n",
       "      <td>Hi-Fi Speakers</td>\n",
       "    </tr>\n",
       "    <tr>\n",
       "      <th>3</th>\n",
       "      <td>4</td>\n",
       "      <td>B09B8T5VGV</td>\n",
       "      <td>Echo Dot with clock (5th generation, 2022 rele...</td>\n",
       "      <td>4.7</td>\n",
       "      <td>7205</td>\n",
       "      <td>31.99</td>\n",
       "      <td>False</td>\n",
       "      <td>0</td>\n",
       "      <td>Hi-Fi Speakers</td>\n",
       "    </tr>\n",
       "    <tr>\n",
       "      <th>4</th>\n",
       "      <td>5</td>\n",
       "      <td>B09WX6QD65</td>\n",
       "      <td>Introducing Echo Pop | Full sound compact Wi-F...</td>\n",
       "      <td>4.6</td>\n",
       "      <td>1881</td>\n",
       "      <td>17.99</td>\n",
       "      <td>False</td>\n",
       "      <td>0</td>\n",
       "      <td>Hi-Fi Speakers</td>\n",
       "    </tr>\n",
       "    <tr>\n",
       "      <th>...</th>\n",
       "      <td>...</td>\n",
       "      <td>...</td>\n",
       "      <td>...</td>\n",
       "      <td>...</td>\n",
       "      <td>...</td>\n",
       "      <td>...</td>\n",
       "      <td>...</td>\n",
       "      <td>...</td>\n",
       "      <td>...</td>\n",
       "    </tr>\n",
       "    <tr>\n",
       "      <th>2443646</th>\n",
       "      <td>2828589</td>\n",
       "      <td>B0CHSD7P2Q</td>\n",
       "      <td>Motorbike Armour, Motorbike Clothing, Cycling ...</td>\n",
       "      <td>0.0</td>\n",
       "      <td>0</td>\n",
       "      <td>22.34</td>\n",
       "      <td>False</td>\n",
       "      <td>0</td>\n",
       "      <td>Motorbike Clothing</td>\n",
       "    </tr>\n",
       "    <tr>\n",
       "      <th>2443647</th>\n",
       "      <td>2828590</td>\n",
       "      <td>B0B7B8FNBQ</td>\n",
       "      <td>PROFIRST Waterproof Motorcycle 2 Piece Ladies ...</td>\n",
       "      <td>0.0</td>\n",
       "      <td>0</td>\n",
       "      <td>97.99</td>\n",
       "      <td>False</td>\n",
       "      <td>0</td>\n",
       "      <td>Motorbike Clothing</td>\n",
       "    </tr>\n",
       "    <tr>\n",
       "      <th>2443648</th>\n",
       "      <td>2828591</td>\n",
       "      <td>B0BD5FL5FB</td>\n",
       "      <td>Men’s Motorcycle Motorbike Biker Trousers Kevl...</td>\n",
       "      <td>0.0</td>\n",
       "      <td>0</td>\n",
       "      <td>52.99</td>\n",
       "      <td>False</td>\n",
       "      <td>0</td>\n",
       "      <td>Motorbike Clothing</td>\n",
       "    </tr>\n",
       "    <tr>\n",
       "      <th>2443649</th>\n",
       "      <td>2828592</td>\n",
       "      <td>B008OYLL4I</td>\n",
       "      <td>Texpeed Mens Motorcycle Motorbike Biker Trouse...</td>\n",
       "      <td>4.3</td>\n",
       "      <td>404</td>\n",
       "      <td>79.99</td>\n",
       "      <td>False</td>\n",
       "      <td>0</td>\n",
       "      <td>Motorbike Clothing</td>\n",
       "    </tr>\n",
       "    <tr>\n",
       "      <th>2443650</th>\n",
       "      <td>2828593</td>\n",
       "      <td>B08P3W9B3T</td>\n",
       "      <td>RIDEX CJ223 Motorcycle Motorbike Jacket Armour...</td>\n",
       "      <td>4.5</td>\n",
       "      <td>34</td>\n",
       "      <td>53.99</td>\n",
       "      <td>False</td>\n",
       "      <td>0</td>\n",
       "      <td>Motorbike Clothing</td>\n",
       "    </tr>\n",
       "  </tbody>\n",
       "</table>\n",
       "<p>2443651 rows × 9 columns</p>\n",
       "</div>"
      ],
      "text/plain": [
       "             uid        asin  \\\n",
       "0              1  B09B96TG33   \n",
       "1              2  B01HTH3C8S   \n",
       "2              3  B09B8YWXDF   \n",
       "3              4  B09B8T5VGV   \n",
       "4              5  B09WX6QD65   \n",
       "...          ...         ...   \n",
       "2443646  2828589  B0CHSD7P2Q   \n",
       "2443647  2828590  B0B7B8FNBQ   \n",
       "2443648  2828591  B0BD5FL5FB   \n",
       "2443649  2828592  B008OYLL4I   \n",
       "2443650  2828593  B08P3W9B3T   \n",
       "\n",
       "                                                     title  stars  reviews  \\\n",
       "0        Echo Dot (5th generation, 2022 release) | Big ...    4.7    15308   \n",
       "1        Anker Soundcore mini, Super-Portable Bluetooth...    4.7    98099   \n",
       "2        Echo Dot (5th generation, 2022 release) | Big ...    4.7    15308   \n",
       "3        Echo Dot with clock (5th generation, 2022 rele...    4.7     7205   \n",
       "4        Introducing Echo Pop | Full sound compact Wi-F...    4.6     1881   \n",
       "...                                                    ...    ...      ...   \n",
       "2443646  Motorbike Armour, Motorbike Clothing, Cycling ...    0.0        0   \n",
       "2443647  PROFIRST Waterproof Motorcycle 2 Piece Ladies ...    0.0        0   \n",
       "2443648  Men’s Motorcycle Motorbike Biker Trousers Kevl...    0.0        0   \n",
       "2443649  Texpeed Mens Motorcycle Motorbike Biker Trouse...    4.3      404   \n",
       "2443650  RIDEX CJ223 Motorcycle Motorbike Jacket Armour...    4.5       34   \n",
       "\n",
       "         price  isBestSeller  boughtInLastMonth            category  \n",
       "0        21.99         False                  0      Hi-Fi Speakers  \n",
       "1        23.99          True                  0      Hi-Fi Speakers  \n",
       "2        21.99         False                  0      Hi-Fi Speakers  \n",
       "3        31.99         False                  0      Hi-Fi Speakers  \n",
       "4        17.99         False                  0      Hi-Fi Speakers  \n",
       "...        ...           ...                ...                 ...  \n",
       "2443646  22.34         False                  0  Motorbike Clothing  \n",
       "2443647  97.99         False                  0  Motorbike Clothing  \n",
       "2443648  52.99         False                  0  Motorbike Clothing  \n",
       "2443649  79.99         False                  0  Motorbike Clothing  \n",
       "2443650  53.99         False                  0  Motorbike Clothing  \n",
       "\n",
       "[2443651 rows x 9 columns]"
      ]
     },
     "execution_count": 3,
     "metadata": {},
     "output_type": "execute_result"
    }
   ],
   "source": [
    "df= pd.read_csv(\"amz_uk_price_prediction_dataset.csv\")\n",
    "df"
   ]
  },
  {
   "cell_type": "markdown",
   "id": "668d5a28-b6fb-4384-97c4-c7e97957208a",
   "metadata": {},
   "source": [
    "**Part 1:** Understanding Product Categories\n",
    "Business Question: What are the most popular product categories on Amazon UK, and how do they compare in terms of listing frequency?\n",
    "\n",
    "Frequency Tables:\n",
    "\n",
    "Generate a frequency table for the product category.\n",
    "Which are the top 5 most listed product categories?\n",
    "Visualizations:\n",
    "\n",
    "Display the distribution of products across different categories using a bar chart. If you face problems understanding the chart, do it for a subset of top categories.\n",
    "For a subset of top categories, visualize their proportions using a pie chart. Does any category dominate the listings?"
   ]
  },
  {
   "cell_type": "code",
   "execution_count": 4,
   "id": "6682dc79-06d4-4498-a1b1-d0cd3b459854",
   "metadata": {},
   "outputs": [],
   "source": [
    "categorical= df.select_dtypes(exclude=\"number\")"
   ]
  },
  {
   "cell_type": "code",
   "execution_count": 5,
   "id": "fe539bb0-878e-4494-8a92-2e5472de3792",
   "metadata": {},
   "outputs": [],
   "source": [
    "numerical= df.select_dtypes(include=\"number\")"
   ]
  },
  {
   "cell_type": "code",
   "execution_count": 6,
   "id": "25f1baf3-9f8d-42f9-9096-8af42ff9a610",
   "metadata": {},
   "outputs": [
    {
     "data": {
      "text/plain": [
       "uid                  0\n",
       "asin                 0\n",
       "title                0\n",
       "stars                0\n",
       "reviews              0\n",
       "price                0\n",
       "isBestSeller         0\n",
       "boughtInLastMonth    0\n",
       "category             0\n",
       "dtype: int64"
      ]
     },
     "execution_count": 6,
     "metadata": {},
     "output_type": "execute_result"
    }
   ],
   "source": [
    "df.isna().sum()"
   ]
  },
  {
   "cell_type": "code",
   "execution_count": 7,
   "id": "41d6185d-0b8a-4d40-9ad8-b1984c9ac52d",
   "metadata": {},
   "outputs": [
    {
     "data": {
      "text/plain": [
       "0"
      ]
     },
     "execution_count": 7,
     "metadata": {},
     "output_type": "execute_result"
    }
   ],
   "source": [
    "df.duplicated().sum()"
   ]
  },
  {
   "cell_type": "code",
   "execution_count": 9,
   "id": "6e62e25a-6d3d-4b3f-a857-42874355d135",
   "metadata": {},
   "outputs": [
    {
     "data": {
      "text/plain": [
       "uid                  0\n",
       "asin                 0\n",
       "title                0\n",
       "stars                0\n",
       "reviews              0\n",
       "price                0\n",
       "isBestSeller         0\n",
       "boughtInLastMonth    0\n",
       "category             0\n",
       "dtype: int64"
      ]
     },
     "execution_count": 9,
     "metadata": {},
     "output_type": "execute_result"
    }
   ],
   "source": [
    "df.eq(\" \").sum()"
   ]
  },
  {
   "cell_type": "code",
   "execution_count": 12,
   "id": "99b3f9a7-3549-459d-a731-51dfe5ff5ab1",
   "metadata": {},
   "outputs": [
    {
     "data": {
      "text/html": [
       "<div>\n",
       "<style scoped>\n",
       "    .dataframe tbody tr th:only-of-type {\n",
       "        vertical-align: middle;\n",
       "    }\n",
       "\n",
       "    .dataframe tbody tr th {\n",
       "        vertical-align: top;\n",
       "    }\n",
       "\n",
       "    .dataframe thead th {\n",
       "        text-align: right;\n",
       "    }\n",
       "</style>\n",
       "<table border=\"1\" class=\"dataframe\">\n",
       "  <thead>\n",
       "    <tr style=\"text-align: right;\">\n",
       "      <th></th>\n",
       "      <th>category</th>\n",
       "      <th>count</th>\n",
       "    </tr>\n",
       "  </thead>\n",
       "  <tbody>\n",
       "    <tr>\n",
       "      <th>0</th>\n",
       "      <td>Sports &amp; Outdoors</td>\n",
       "      <td>836265</td>\n",
       "    </tr>\n",
       "    <tr>\n",
       "      <th>1</th>\n",
       "      <td>Beauty</td>\n",
       "      <td>19312</td>\n",
       "    </tr>\n",
       "    <tr>\n",
       "      <th>2</th>\n",
       "      <td>Handmade Clothing, Shoes &amp; Accessories</td>\n",
       "      <td>19229</td>\n",
       "    </tr>\n",
       "    <tr>\n",
       "      <th>3</th>\n",
       "      <td>Bath &amp; Body</td>\n",
       "      <td>19092</td>\n",
       "    </tr>\n",
       "    <tr>\n",
       "      <th>4</th>\n",
       "      <td>Birthday Gifts</td>\n",
       "      <td>18978</td>\n",
       "    </tr>\n",
       "  </tbody>\n",
       "</table>\n",
       "</div>"
      ],
      "text/plain": [
       "                                 category   count\n",
       "0                       Sports & Outdoors  836265\n",
       "1                                  Beauty   19312\n",
       "2  Handmade Clothing, Shoes & Accessories   19229\n",
       "3                             Bath & Body   19092\n",
       "4                          Birthday Gifts   18978"
      ]
     },
     "execution_count": 12,
     "metadata": {},
     "output_type": "execute_result"
    }
   ],
   "source": [
    "frequency_table = categorical.category.value_counts()\n",
    "frequency_table.reset_index().head(5)\n",
    "#top 5 product categories"
   ]
  },
  {
   "cell_type": "markdown",
   "id": "3f77a047-e8e6-4bd2-80e3-dc72f48d803e",
   "metadata": {},
   "source": [
    "The top 5 products categories are sport & outdoors; beauty; handmade clothing, shoes & accessories; bath & body and birthday gifts"
   ]
  },
  {
   "cell_type": "code",
   "execution_count": 14,
   "id": "504fa905-d45a-4bac-b9d9-76c5b5e2c714",
   "metadata": {},
   "outputs": [
    {
     "data": {
      "text/html": [
       "<div>\n",
       "<style scoped>\n",
       "    .dataframe tbody tr th:only-of-type {\n",
       "        vertical-align: middle;\n",
       "    }\n",
       "\n",
       "    .dataframe tbody tr th {\n",
       "        vertical-align: top;\n",
       "    }\n",
       "\n",
       "    .dataframe thead th {\n",
       "        text-align: right;\n",
       "    }\n",
       "</style>\n",
       "<table border=\"1\" class=\"dataframe\">\n",
       "  <thead>\n",
       "    <tr style=\"text-align: right;\">\n",
       "      <th></th>\n",
       "      <th>category</th>\n",
       "      <th>proportion</th>\n",
       "    </tr>\n",
       "  </thead>\n",
       "  <tbody>\n",
       "    <tr>\n",
       "      <th>0</th>\n",
       "      <td>Sports &amp; Outdoors</td>\n",
       "      <td>0.342219</td>\n",
       "    </tr>\n",
       "    <tr>\n",
       "      <th>1</th>\n",
       "      <td>Beauty</td>\n",
       "      <td>0.007903</td>\n",
       "    </tr>\n",
       "    <tr>\n",
       "      <th>2</th>\n",
       "      <td>Handmade Clothing, Shoes &amp; Accessories</td>\n",
       "      <td>0.007869</td>\n",
       "    </tr>\n",
       "    <tr>\n",
       "      <th>3</th>\n",
       "      <td>Bath &amp; Body</td>\n",
       "      <td>0.007813</td>\n",
       "    </tr>\n",
       "    <tr>\n",
       "      <th>4</th>\n",
       "      <td>Birthday Gifts</td>\n",
       "      <td>0.007766</td>\n",
       "    </tr>\n",
       "  </tbody>\n",
       "</table>\n",
       "</div>"
      ],
      "text/plain": [
       "                                 category  proportion\n",
       "0                       Sports & Outdoors    0.342219\n",
       "1                                  Beauty    0.007903\n",
       "2  Handmade Clothing, Shoes & Accessories    0.007869\n",
       "3                             Bath & Body    0.007813\n",
       "4                          Birthday Gifts    0.007766"
      ]
     },
     "execution_count": 14,
     "metadata": {},
     "output_type": "execute_result"
    }
   ],
   "source": [
    "proportion_table = categorical.category.value_counts(normalize=True)\n",
    "proportion_table.reset_index().head(5)"
   ]
  },
  {
   "cell_type": "code",
   "execution_count": 49,
   "id": "e0eb5193-6582-4384-add5-c09215fcc6c7",
   "metadata": {},
   "outputs": [],
   "source": [
    "df2= pd.concat([frequency_table, proportion_table], axis=1)\n",
    "df2.columns = ['absolute_frequency', 'relative_frequency']\n",
    "df2= df2.reset_index().head(5) #tens de assign outra vez para teres as columns todas"
   ]
  },
  {
   "cell_type": "code",
   "execution_count": 46,
   "id": "3ccc238c-5a1c-4ce3-8c62-bd5d9c776f8e",
   "metadata": {},
   "outputs": [
    {
     "data": {
      "text/plain": [
       "Index(['category', 'absolute_frequency', 'relative_frequency'], dtype='object')"
      ]
     },
     "execution_count": 46,
     "metadata": {},
     "output_type": "execute_result"
    }
   ],
   "source": [
    "df2.columns"
   ]
  },
  {
   "cell_type": "code",
   "execution_count": 60,
   "id": "5ded61fe-be3b-41b3-8ed7-a572fd99f702",
   "metadata": {},
   "outputs": [
    {
     "data": {
      "image/png": "[encoded data removed]",
      "text/plain": [
       "<Figure size 640x480 with 1 Axes>"
      ]
     },
     "metadata": {},
     "output_type": "display_data"
    }
   ],
   "source": [
    "sns.barplot(x= \"category\", \n",
    "            y=\"absolute_frequency\", \n",
    "            data= df2, \n",
    "            palette= \"pink\")\n",
    "plt.xticks(rotation=90)\n",
    "plt.title(\"Top 5 most listed product categories\")\n",
    "plt.show()"
   ]
  },
  {
   "cell_type": "code",
   "execution_count": 64,
   "id": "b1abdb32-17fd-4ac4-a3dc-7ef351d4ed7c",
   "metadata": {},
   "outputs": [],
   "source": [
    "proportion_table_top5= proportion_table.head(5)"
   ]
  },
  {
   "cell_type": "code",
   "execution_count": 73,
   "id": "bc9454f5-e451-48c0-b068-23858d01ace7",
   "metadata": {},
   "outputs": [
    {
     "data": {
      "image/png": "[encoded data removed]",
      "text/plain": [
       "<Figure size 640x480 with 1 Axes>"
      ]
     },
     "metadata": {},
     "output_type": "display_data"
    }
   ],
   "source": [
    "proportion_table_top5.plot.pie(autopct='%1.2f%%' ,startangle=40, colors=sns.color_palette('Set2'))\n",
    "plt.show()"
   ]
  },
  {
   "cell_type": "markdown",
   "id": "a62e651c-ce82-4775-adef-0ec94b79659c",
   "metadata": {},
   "source": [
    "In both charts we can see the predominance of the category of Sports & Outdoors, a huge difference comapred to the remaining categories"
   ]
  },
  {
   "cell_type": "markdown",
   "id": "a333a4c6-40ea-4b96-9078-bf2f43ae02b9",
   "metadata": {},
   "source": [
    "**Part 2:** Delving into Product Pricing\n",
    "Business Question: How are products priced on Amazon UK, and are there specific price points or ranges that are more common?\n",
    "\n",
    "Measures of Centrality:\n",
    "\n",
    "Calculate the mean, median, and mode for the price of products.\n",
    "What's the average price point of products listed? How does this compare with the most common price point (mode)?\n",
    "\n",
    "Measures of Dispersion:\n",
    "\n",
    "Determine the variance, standard deviation, range, and interquartile range for product price.\n",
    "How varied are the product prices? Are there any indicators of a significant spread in prices?\n",
    "Visualizations:\n",
    "\n",
    "Is there a specific price range where most products fall? Plot a histogram to visualize the distribution of product prices. If its hard to read these diagrams, think why this is, and explain how it could be solved..\n",
    "Are there products that are priced significantly higher than the rest? Use a box plot to showcase the spread and potential outliers in product pricing."
   ]
  },
  {
   "cell_type": "code",
   "execution_count": 86,
   "id": "c0e56e0c-ea2a-4c2e-82f5-24e096b28f51",
   "metadata": {},
   "outputs": [
    {
     "data": {
      "text/plain": [
       "89.24"
      ]
     },
     "execution_count": 86,
     "metadata": {},
     "output_type": "execute_result"
    }
   ],
   "source": [
    "mean_price= df.price.mean()\n",
    "round(mean_price, 2)"
   ]
  },
  {
   "cell_type": "code",
   "execution_count": 81,
   "id": "735945cd-d955-42ea-99c8-340c49505095",
   "metadata": {},
   "outputs": [
    {
     "data": {
      "text/plain": [
       "19.09"
      ]
     },
     "execution_count": 81,
     "metadata": {},
     "output_type": "execute_result"
    }
   ],
   "source": [
    "median_price= df.price.median()\n",
    "round(median_price, 2)"
   ]
  },
  {
   "cell_type": "code",
   "execution_count": 84,
   "id": "71058649-a2ec-48b1-9c35-ed69f6abe903",
   "metadata": {},
   "outputs": [
    {
     "data": {
      "text/plain": [
       "0    9.99\n",
       "Name: price, dtype: float64"
      ]
     },
     "execution_count": 84,
     "metadata": {},
     "output_type": "execute_result"
    }
   ],
   "source": [
    "mode_price= df.price.mode()\n",
    "mode_price"
   ]
  },
  {
   "cell_type": "markdown",
   "id": "e2090132-f940-4fd1-84ed-7cdfc684967e",
   "metadata": {},
   "source": [
    "The average price point of products listed is 89.24 pounds\n",
    "The median is notably lower than the mean, which indicates that there is a positive skew. Upon analysing the mode, median and mean we can conclude that most of the prices are low like 9.99 pounds but some products are way more expensive messing up with the mean (the outliers)."
   ]
  },
  {
   "cell_type": "code",
   "execution_count": 88,
   "id": "62bef428-948f-4e48-8e9b-07b4b6b307ec",
   "metadata": {},
   "outputs": [
    {
     "data": {
      "text/plain": [
       "119445.49"
      ]
     },
     "execution_count": 88,
     "metadata": {},
     "output_type": "execute_result"
    }
   ],
   "source": [
    "variance_price= df.price.var()\n",
    "round(variance_price,2)"
   ]
  },
  {
   "cell_type": "code",
   "execution_count": 90,
   "id": "e7e6a043-3637-4e37-9f47-3580f841fcd2",
   "metadata": {},
   "outputs": [
    {
     "data": {
      "text/plain": [
       "345.61"
      ]
     },
     "execution_count": 90,
     "metadata": {},
     "output_type": "execute_result"
    }
   ],
   "source": [
    "std_price= df.price.std()\n",
    "round(std_price,2)"
   ]
  },
  {
   "cell_type": "code",
   "execution_count": 94,
   "id": "d39262fe-d80d-4303-97fa-7d28deff6c34",
   "metadata": {},
   "outputs": [
    {
     "data": {
      "text/plain": [
       "100000.0"
      ]
     },
     "execution_count": 94,
     "metadata": {},
     "output_type": "execute_result"
    }
   ],
   "source": [
    "range_price= df.price.max()-df.price.min()\n",
    "range_price"
   ]
  },
  {
   "cell_type": "code",
   "execution_count": 97,
   "id": "eed755bd-828a-4145-8cbf-a7196210be9f",
   "metadata": {},
   "outputs": [
    {
     "data": {
      "text/plain": [
       "45.99"
      ]
     },
     "execution_count": 97,
     "metadata": {},
     "output_type": "execute_result"
    }
   ],
   "source": [
    "#não confudir mean com interquartile, mean = average -/- interquartile= q3- q1\n",
    "q3_price= df.price.quantile(0.75)\n",
    "q3_price"
   ]
  },
  {
   "cell_type": "code",
   "execution_count": 98,
   "id": "77bd9fd2-cedd-4293-b37e-d1e3f1afbbb4",
   "metadata": {},
   "outputs": [
    {
     "data": {
      "text/plain": [
       "9.99"
      ]
     },
     "execution_count": 98,
     "metadata": {},
     "output_type": "execute_result"
    }
   ],
   "source": [
    "q1_price= df.price.quantile(0.25)\n",
    "q1_price"
   ]
  },
  {
   "cell_type": "code",
   "execution_count": 99,
   "id": "fd96b985-b933-4152-b916-105e8a28ad71",
   "metadata": {},
   "outputs": [
    {
     "data": {
      "text/plain": [
       "36.0"
      ]
     },
     "execution_count": 99,
     "metadata": {},
     "output_type": "execute_result"
    }
   ],
   "source": [
    "interquartile_price= q3_price-q1_price\n",
    "interquartile_price"
   ]
  },
  {
   "cell_type": "code",
   "execution_count": 93,
   "id": "d5d5d398-0899-4026-8abb-f40959195036",
   "metadata": {},
   "outputs": [
    {
     "data": {
      "text/html": [
       "<div>\n",
       "<style scoped>\n",
       "    .dataframe tbody tr th:only-of-type {\n",
       "        vertical-align: middle;\n",
       "    }\n",
       "\n",
       "    .dataframe tbody tr th {\n",
       "        vertical-align: top;\n",
       "    }\n",
       "\n",
       "    .dataframe thead th {\n",
       "        text-align: right;\n",
       "    }\n",
       "</style>\n",
       "<table border=\"1\" class=\"dataframe\">\n",
       "  <thead>\n",
       "    <tr style=\"text-align: right;\">\n",
       "      <th></th>\n",
       "      <th>count</th>\n",
       "      <th>mean</th>\n",
       "      <th>std</th>\n",
       "      <th>min</th>\n",
       "      <th>25%</th>\n",
       "      <th>50%</th>\n",
       "      <th>75%</th>\n",
       "      <th>max</th>\n",
       "    </tr>\n",
       "  </thead>\n",
       "  <tbody>\n",
       "    <tr>\n",
       "      <th>uid</th>\n",
       "      <td>2443651.0</td>\n",
       "      <td>1.370545e+06</td>\n",
       "      <td>816056.169852</td>\n",
       "      <td>1.0</td>\n",
       "      <td>658921.50</td>\n",
       "      <td>1349029.00</td>\n",
       "      <td>2060685.50</td>\n",
       "      <td>2828593.0</td>\n",
       "    </tr>\n",
       "    <tr>\n",
       "      <th>stars</th>\n",
       "      <td>2443651.0</td>\n",
       "      <td>2.152836e+00</td>\n",
       "      <td>2.194865</td>\n",
       "      <td>0.0</td>\n",
       "      <td>0.00</td>\n",
       "      <td>0.00</td>\n",
       "      <td>4.40</td>\n",
       "      <td>5.0</td>\n",
       "    </tr>\n",
       "    <tr>\n",
       "      <th>reviews</th>\n",
       "      <td>2443651.0</td>\n",
       "      <td>4.806278e+02</td>\n",
       "      <td>5944.124151</td>\n",
       "      <td>0.0</td>\n",
       "      <td>0.00</td>\n",
       "      <td>0.00</td>\n",
       "      <td>59.00</td>\n",
       "      <td>1356658.0</td>\n",
       "    </tr>\n",
       "    <tr>\n",
       "      <th>price</th>\n",
       "      <td>2443651.0</td>\n",
       "      <td>8.924381e+01</td>\n",
       "      <td>345.608862</td>\n",
       "      <td>0.0</td>\n",
       "      <td>9.99</td>\n",
       "      <td>19.09</td>\n",
       "      <td>45.99</td>\n",
       "      <td>100000.0</td>\n",
       "    </tr>\n",
       "    <tr>\n",
       "      <th>boughtInLastMonth</th>\n",
       "      <td>2443651.0</td>\n",
       "      <td>2.589699e+01</td>\n",
       "      <td>240.483727</td>\n",
       "      <td>0.0</td>\n",
       "      <td>0.00</td>\n",
       "      <td>0.00</td>\n",
       "      <td>0.00</td>\n",
       "      <td>50000.0</td>\n",
       "    </tr>\n",
       "  </tbody>\n",
       "</table>\n",
       "</div>"
      ],
      "text/plain": [
       "                       count          mean            std  min        25%  \\\n",
       "uid                2443651.0  1.370545e+06  816056.169852  1.0  658921.50   \n",
       "stars              2443651.0  2.152836e+00       2.194865  0.0       0.00   \n",
       "reviews            2443651.0  4.806278e+02    5944.124151  0.0       0.00   \n",
       "price              2443651.0  8.924381e+01     345.608862  0.0       9.99   \n",
       "boughtInLastMonth  2443651.0  2.589699e+01     240.483727  0.0       0.00   \n",
       "\n",
       "                          50%         75%        max  \n",
       "uid                1349029.00  2060685.50  2828593.0  \n",
       "stars                    0.00        4.40        5.0  \n",
       "reviews                  0.00       59.00  1356658.0  \n",
       "price                   19.09       45.99   100000.0  \n",
       "boughtInLastMonth        0.00        0.00    50000.0  "
      ]
     },
     "execution_count": 93,
     "metadata": {},
     "output_type": "execute_result"
    }
   ],
   "source": [
    "#summary\n",
    "df.describe().T"
   ]
  },
  {
   "cell_type": "markdown",
   "id": "e7dd2c7f-3ae0-44b0-b1c7-71dd427654e8",
   "metadata": {},
   "source": [
    "The variance is 119445.49 and the standard deviation is 345.61 which indicates a huge difference of the prices. As we saw before most of the prices are 9.99 pounds(mode), and has the median is notably lower than the mean in adition with the range 100.000 pounds we can see that there are many outliers that are messing up with the data. Including that the interquartile 36 pounds means that 50% of the data is spread around those values."
   ]
  },
  {
   "cell_type": "code",
   "execution_count": 105,
   "id": "d0c12939-3078-4a41-864e-dfb35213396e",
   "metadata": {},
   "outputs": [
    {
     "name": "stderr",
     "output_type": "stream",
     "text": [
      "C:\\ProgramData\\anaconda3\\Lib\\site-packages\\seaborn\\_oldcore.py:1119: FutureWarning: use_inf_as_na option is deprecated and will be removed in a future version. Convert inf values to NaN before operating instead.\n",
      "  with pd.option_context('mode.use_inf_as_na', True):\n"
     ]
    },
    {
     "data": {
      "image/png": "[encoded data removed]",
      "text/plain": [
       "<Figure size 640x480 with 1 Axes>"
      ]
     },
     "metadata": {},
     "output_type": "display_data"
    }
   ],
   "source": [
    "sns.histplot(df.price, bins=20)\n",
    "plt.show()"
   ]
  },
  {
   "cell_type": "code",
   "execution_count": 103,
   "id": "9dca1f27-69d2-472f-84b9-c0b5769acffe",
   "metadata": {},
   "outputs": [
    {
     "data": {
      "image/png": "[encoded data removed]",
      "text/plain": [
       "<Figure size 640x480 with 1 Axes>"
      ]
     },
     "metadata": {},
     "output_type": "display_data"
    }
   ],
   "source": [
    "sns.boxplot(data= df.price)\n",
    "plt.show()"
   ]
  },
  {
   "cell_type": "markdown",
   "id": "e9167f88-5a5f-4619-9b3b-3d00efc5a53e",
   "metadata": {},
   "source": [
    "In this visualizations we can see that there are too many outliers which is making the visualizations not clear. Most of the values are centred in the 0 value from the y axis. We cannot really see where the data stands here or even the box and interquartile. In other to solve it we would have to deal with the outliers and clean the data.\n",
    "Resuming, we can indeed conclude that there are products that are extremely high comparing to most of the products in the df."
   ]
  },
  {
   "cell_type": "markdown",
   "id": "6a8b5559-2ded-42e0-8d08-a73b59916f2b",
   "metadata": {},
   "source": [
    "**Part 3:** Unpacking Product Ratings\n",
    "Business Question: How do customers rate products on Amazon UK, and are there any patterns or tendencies in the ratings?\n",
    "\n",
    "Measures of Centrality:\n",
    "\n",
    "Calculate the mean, median, and mode for the rating of products.\n",
    "How do customers generally rate products? Is there a common trend?\n",
    "\n",
    "Measures of Dispersion:\n",
    "\n",
    "Determine the variance, standard deviation, and interquartile range for product rating.\n",
    "Are the ratings consistent, or is there a wide variation in customer feedback?\n",
    "Shape of the Distribution:\n",
    "\n",
    "Calculate the skewness and kurtosis for the rating column.\n",
    "Are the ratings normally distributed, or do they lean towards higher or lower values?\n",
    "Visualizations:\n",
    "\n",
    "Plot a histogram to visualize the distribution of product ratings. Is there a specific rating that is more common?\n"
   ]
  },
  {
   "cell_type": "code",
   "execution_count": 108,
   "id": "ced22d10-dda7-41a3-88f1-f4442a319849",
   "metadata": {},
   "outputs": [
    {
     "data": {
      "text/plain": [
       "2.15"
      ]
     },
     "execution_count": 108,
     "metadata": {},
     "output_type": "execute_result"
    }
   ],
   "source": [
    "mean_rating= df.stars.mean()\n",
    "round(mean_rating, 2)"
   ]
  },
  {
   "cell_type": "code",
   "execution_count": 119,
   "id": "97b57895-c47a-4bd9-b1e4-989b9cedfd97",
   "metadata": {},
   "outputs": [
    {
     "data": {
      "text/plain": [
       "0.0"
      ]
     },
     "execution_count": 119,
     "metadata": {},
     "output_type": "execute_result"
    }
   ],
   "source": [
    "median_rating=df.stars.median()\n",
    "median_rating"
   ]
  },
  {
   "cell_type": "code",
   "execution_count": 120,
   "id": "2e7a7cf3-5432-4546-a6ad-9a10703a759e",
   "metadata": {},
   "outputs": [
    {
     "data": {
      "text/plain": [
       "0    0.0\n",
       "Name: stars, dtype: float64"
      ]
     },
     "execution_count": 120,
     "metadata": {},
     "output_type": "execute_result"
    }
   ],
   "source": [
    "mode_rating= df.stars.mode()\n",
    "mode_rating"
   ]
  },
  {
   "cell_type": "markdown",
   "id": "3f533927-0e18-47cc-90c0-140dbbb8a2f5",
   "metadata": {},
   "source": [
    "In this analysis we can conclude that most of the customers rate the products as 0.0 or do not even rate the products as the mode and median are both 0.0. We can see that the mean is 2,15 therefore we can conclude that some products have higher ratings rising the mean."
   ]
  },
  {
   "cell_type": "code",
   "execution_count": 122,
   "id": "1443a357-a3b9-45d5-99a0-4cd9f1a384d3",
   "metadata": {},
   "outputs": [
    {
     "data": {
      "text/plain": [
       "4.82"
      ]
     },
     "execution_count": 122,
     "metadata": {},
     "output_type": "execute_result"
    }
   ],
   "source": [
    "variance_rating= df.stars.var()\n",
    "round(variance_rating, 2)"
   ]
  },
  {
   "cell_type": "code",
   "execution_count": 124,
   "id": "c9d04be4-31af-48b1-81a3-bfbac8987676",
   "metadata": {},
   "outputs": [
    {
     "data": {
      "text/plain": [
       "2.19"
      ]
     },
     "execution_count": 124,
     "metadata": {},
     "output_type": "execute_result"
    }
   ],
   "source": [
    "std_rating= df.stars.std()\n",
    "round(std_rating, 2)"
   ]
  },
  {
   "cell_type": "code",
   "execution_count": 125,
   "id": "d1cab8e2-ab07-4226-a014-16eb76b1db00",
   "metadata": {},
   "outputs": [
    {
     "data": {
      "text/plain": [
       "0.0"
      ]
     },
     "execution_count": 125,
     "metadata": {},
     "output_type": "execute_result"
    }
   ],
   "source": [
    "q1_rating= df.stars.quantile(0.25)\n",
    "q1_rating"
   ]
  },
  {
   "cell_type": "code",
   "execution_count": 126,
   "id": "53c1cce3-b6b1-4a09-99a8-4aea60bf6e70",
   "metadata": {},
   "outputs": [
    {
     "data": {
      "text/plain": [
       "4.4"
      ]
     },
     "execution_count": 126,
     "metadata": {},
     "output_type": "execute_result"
    }
   ],
   "source": [
    "q3_rating= df.stars.quantile(0.75)\n",
    "q3_rating"
   ]
  },
  {
   "cell_type": "code",
   "execution_count": 128,
   "id": "3e684065-90c3-471d-9951-57c248745bc4",
   "metadata": {},
   "outputs": [
    {
     "data": {
      "text/plain": [
       "4.4"
      ]
     },
     "execution_count": 128,
     "metadata": {},
     "output_type": "execute_result"
    }
   ],
   "source": [
    "interquartile_rating= q3_rating- q1_rating\n",
    "interquartile_rating"
   ]
  },
  {
   "cell_type": "code",
   "execution_count": 127,
   "id": "fcd3c735-f3e2-4223-af9c-56211a34acb1",
   "metadata": {},
   "outputs": [
    {
     "data": {
      "text/html": [
       "<div>\n",
       "<style scoped>\n",
       "    .dataframe tbody tr th:only-of-type {\n",
       "        vertical-align: middle;\n",
       "    }\n",
       "\n",
       "    .dataframe tbody tr th {\n",
       "        vertical-align: top;\n",
       "    }\n",
       "\n",
       "    .dataframe thead th {\n",
       "        text-align: right;\n",
       "    }\n",
       "</style>\n",
       "<table border=\"1\" class=\"dataframe\">\n",
       "  <thead>\n",
       "    <tr style=\"text-align: right;\">\n",
       "      <th></th>\n",
       "      <th>count</th>\n",
       "      <th>mean</th>\n",
       "      <th>std</th>\n",
       "      <th>min</th>\n",
       "      <th>25%</th>\n",
       "      <th>50%</th>\n",
       "      <th>75%</th>\n",
       "      <th>max</th>\n",
       "    </tr>\n",
       "  </thead>\n",
       "  <tbody>\n",
       "    <tr>\n",
       "      <th>uid</th>\n",
       "      <td>2443651.0</td>\n",
       "      <td>1.370545e+06</td>\n",
       "      <td>816056.169852</td>\n",
       "      <td>1.0</td>\n",
       "      <td>658921.50</td>\n",
       "      <td>1349029.00</td>\n",
       "      <td>2060685.50</td>\n",
       "      <td>2828593.0</td>\n",
       "    </tr>\n",
       "    <tr>\n",
       "      <th>stars</th>\n",
       "      <td>2443651.0</td>\n",
       "      <td>2.152836e+00</td>\n",
       "      <td>2.194865</td>\n",
       "      <td>0.0</td>\n",
       "      <td>0.00</td>\n",
       "      <td>0.00</td>\n",
       "      <td>4.40</td>\n",
       "      <td>5.0</td>\n",
       "    </tr>\n",
       "    <tr>\n",
       "      <th>reviews</th>\n",
       "      <td>2443651.0</td>\n",
       "      <td>4.806278e+02</td>\n",
       "      <td>5944.124151</td>\n",
       "      <td>0.0</td>\n",
       "      <td>0.00</td>\n",
       "      <td>0.00</td>\n",
       "      <td>59.00</td>\n",
       "      <td>1356658.0</td>\n",
       "    </tr>\n",
       "    <tr>\n",
       "      <th>price</th>\n",
       "      <td>2443651.0</td>\n",
       "      <td>8.924381e+01</td>\n",
       "      <td>345.608862</td>\n",
       "      <td>0.0</td>\n",
       "      <td>9.99</td>\n",
       "      <td>19.09</td>\n",
       "      <td>45.99</td>\n",
       "      <td>100000.0</td>\n",
       "    </tr>\n",
       "    <tr>\n",
       "      <th>boughtInLastMonth</th>\n",
       "      <td>2443651.0</td>\n",
       "      <td>2.589699e+01</td>\n",
       "      <td>240.483727</td>\n",
       "      <td>0.0</td>\n",
       "      <td>0.00</td>\n",
       "      <td>0.00</td>\n",
       "      <td>0.00</td>\n",
       "      <td>50000.0</td>\n",
       "    </tr>\n",
       "  </tbody>\n",
       "</table>\n",
       "</div>"
      ],
      "text/plain": [
       "                       count          mean            std  min        25%  \\\n",
       "uid                2443651.0  1.370545e+06  816056.169852  1.0  658921.50   \n",
       "stars              2443651.0  2.152836e+00       2.194865  0.0       0.00   \n",
       "reviews            2443651.0  4.806278e+02    5944.124151  0.0       0.00   \n",
       "price              2443651.0  8.924381e+01     345.608862  0.0       9.99   \n",
       "boughtInLastMonth  2443651.0  2.589699e+01     240.483727  0.0       0.00   \n",
       "\n",
       "                          50%         75%        max  \n",
       "uid                1349029.00  2060685.50  2828593.0  \n",
       "stars                    0.00        4.40        5.0  \n",
       "reviews                  0.00       59.00  1356658.0  \n",
       "price                   19.09       45.99   100000.0  \n",
       "boughtInLastMonth        0.00        0.00    50000.0  "
      ]
     },
     "execution_count": 127,
     "metadata": {},
     "output_type": "execute_result"
    }
   ],
   "source": [
    "#summary\n",
    "df.describe().T"
   ]
  },
  {
   "cell_type": "markdown",
   "id": "cf282bef-3929-4a88-bc5f-e9e6f5746010",
   "metadata": {},
   "source": [
    "We can see a high variance in the products ratings which tells us that these ratings are not consistent. As seen previously most of the products have 0.0 rating, being the max 5.0 we can see clearly a big discrepancy in addition with the mean 2.19. We can say that some products have very high ratings altering then the median significantly, the called outliers."
   ]
  },
  {
   "cell_type": "code",
   "execution_count": 130,
   "id": "ed024367-4bad-4c87-9d07-5386aa1e544d",
   "metadata": {},
   "outputs": [
    {
     "data": {
      "text/plain": [
       "0.08"
      ]
     },
     "execution_count": 130,
     "metadata": {},
     "output_type": "execute_result"
    }
   ],
   "source": [
    "df.stars.skew().round(2)"
   ]
  },
  {
   "cell_type": "code",
   "execution_count": 132,
   "id": "8817d3fd-8b2f-429d-9016-d1a6ad04d705",
   "metadata": {},
   "outputs": [
    {
     "data": {
      "text/plain": [
       "-1.93"
      ]
     },
     "execution_count": 132,
     "metadata": {},
     "output_type": "execute_result"
    }
   ],
   "source": [
    "df.stars.kurtosis().round(2)"
   ]
  },
  {
   "cell_type": "markdown",
   "id": "0c3bdd99-530b-498d-b5f0-1eccd9b0d66d",
   "metadata": {},
   "source": [
    "The skewness is 0.08 which shows that is positively skewed, which means that are a significant number of products with high ratings pushing the mean up.\n",
    "The kurtosis is -1.93 so the distribution is platykurtic, which shows that some products are quite extreme compared to the other. The kurtosis shows us that the data is very spread around the mean."
   ]
  },
  {
   "cell_type": "code",
   "execution_count": 133,
   "id": "fb0fb620-fdf7-486a-b479-2e111e98feec",
   "metadata": {},
   "outputs": [
    {
     "name": "stderr",
     "output_type": "stream",
     "text": [
      "C:\\ProgramData\\anaconda3\\Lib\\site-packages\\seaborn\\_oldcore.py:1119: FutureWarning: use_inf_as_na option is deprecated and will be removed in a future version. Convert inf values to NaN before operating instead.\n",
      "  with pd.option_context('mode.use_inf_as_na', True):\n"
     ]
    },
    {
     "data": {
      "image/png": "[encoded data removed]",
      "text/plain": [
       "<Figure size 640x480 with 1 Axes>"
      ]
     },
     "metadata": {},
     "output_type": "display_data"
    }
   ],
   "source": [
    "sns.histplot(df.stars, bins=20)\n",
    "plt.show()"
   ]
  },
  {
   "cell_type": "markdown",
   "id": "8ad99b03-c3d9-4f98-8884-637d9e454e5c",
   "metadata": {},
   "source": [
    "Looking at the histplot we can see the predominance of o.o ratings in the products of the df, followed by ratings between 4 and 5 stars.\n",
    "We can also confirm that is positively skewed."
   ]
  }
 ],
 "metadata": {
  "kernelspec": {
   "display_name": "Python 3 (ipykernel)",
   "language": "python",
   "name": "python3"
  },
  "language_info": {
   "codemirror_mode": {
    "name": "ipython",
    "version": 3
   },
   "file_extension": ".py",
   "mimetype": "text/x-python",
   "name": "python",
   "nbconvert_exporter": "python",
   "pygments_lexer": "ipython3",
   "version": "3.11.7"
  }
 },
 "nbformat": 4,
 "nbformat_minor": 5
}
